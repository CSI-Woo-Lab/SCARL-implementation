{
 "cells": [
  {
   "cell_type": "code",
   "execution_count": 1,
   "metadata": {},
   "outputs": [],
   "source": [
    "import importlib\n",
    "import mc_env\n",
    "import mc_job_dist\n",
    "import numpy as np \n",
    "import pickle"
   ]
  },
  {
   "cell_type": "code",
   "execution_count": 2,
   "metadata": {},
   "outputs": [
    {
     "name": "stdout",
     "output_type": "stream",
     "text": [
      "Requirement already satisfied: gym in /Users/ita/anaconda3/lib/python3.7/site-packages (0.17.2)\r\n",
      "Requirement already satisfied: scipy in /Users/ita/anaconda3/lib/python3.7/site-packages (from gym) (1.3.0)\r\n",
      "Requirement already satisfied: cloudpickle<1.4.0,>=1.2.0 in /Users/ita/anaconda3/lib/python3.7/site-packages (from gym) (1.2.1)\r\n",
      "Requirement already satisfied: numpy>=1.10.4 in /Users/ita/anaconda3/lib/python3.7/site-packages (from gym) (1.16.4)\r\n",
      "Requirement already satisfied: pyglet<=1.5.0,>=1.4.0 in /Users/ita/anaconda3/lib/python3.7/site-packages (from gym) (1.5.0)\r\n",
      "Requirement already satisfied: future in /Users/ita/anaconda3/lib/python3.7/site-packages (from pyglet<=1.5.0,>=1.4.0->gym) (0.17.1)\r\n"
     ]
    }
   ],
   "source": [
    "!pip install gym"
   ]
  },
  {
   "cell_type": "code",
   "execution_count": 3,
   "metadata": {},
   "outputs": [
    {
     "data": {
      "text/plain": [
       "<module 'mc_job_dist' from '/Users/ita/Dropbox/code/deeprm_ex2/mc_job_dist.py'>"
      ]
     },
     "execution_count": 3,
     "metadata": {},
     "output_type": "execute_result"
    }
   ],
   "source": [
    "importlib.reload(mc_env)\n",
    "importlib.reload(mc_job_dist)"
   ]
  },
  {
   "cell_type": "code",
   "execution_count": 7,
   "metadata": {},
   "outputs": [],
   "source": [
    "tr_seqs = []\n",
    "n_seqs = 1000\n",
    "ep_len = 100\n",
    "job_lens = []\n",
    "te_seqs = []"
   ]
  },
  {
   "cell_type": "code",
   "execution_count": null,
   "metadata": {
    "scrolled": true
   },
   "outputs": [
    {
     "name": "stdout",
     "output_type": "stream",
     "text": [
      "2.00176\n"
     ]
    }
   ],
   "source": [
    "for intensity in np.arange(2.0, 4.1, 0.2):\n",
    "    t = mc_job_dist.JobGenerator(lamb_min=intensity, lamb_max=intensity)\n",
    "    job_lens = []\n",
    "    tr_seqs = []\n",
    "    te_seqs =[]\n",
    "    for _ in range(n_seqs):\n",
    "        seq = [] \n",
    "        t.curr_state = 'high'\n",
    "        for _ in range(ep_len):\n",
    "            l = t.mmpp()\n",
    "            seq.append(l)\n",
    "            job_lens.append(len(l))\n",
    "        tr_seqs.append(seq)\n",
    "    print(np.mean(job_lens))\n",
    "\n",
    "    for _ in range(n_seqs):\n",
    "\n",
    "        seq = [] \n",
    "        t.curr_state = 'high'\n",
    "        for _ in range(ep_len):\n",
    "            seq.append(t.mmpp())\n",
    "            job_lens += [x[0] for x in seq[_]]\n",
    "        te_seqs.append(seq)\n",
    "\n",
    "    with open(\"data/tr_%0.1f.pkl\" % intensity,'wb') as f:\n",
    "        pickle.dump(tr_seqs, f)\n",
    "    with open(\"data/te_%0.1f.pkl\" % intensity,'wb') as f:\n",
    "        pickle.dump(te_seqs, f)"
   ]
  },
  {
   "cell_type": "code",
   "execution_count": null,
   "metadata": {},
   "outputs": [],
   "source": []
  },
  {
   "cell_type": "code",
   "execution_count": 26,
   "metadata": {},
   "outputs": [
    {
     "name": "stdout",
     "output_type": "stream",
     "text": [
      "5\n"
     ]
    },
    {
     "ename": "TypeError",
     "evalue": "__init__() got an unexpected keyword argument 'lamb'",
     "output_type": "error",
     "traceback": [
      "\u001b[0;31m---------------------------------------------------------------------------\u001b[0m",
      "\u001b[0;31mTypeError\u001b[0m                                 Traceback (most recent call last)",
      "\u001b[0;32m<ipython-input-26-a7e930a88fb0>\u001b[0m in \u001b[0;36m<module>\u001b[0;34m\u001b[0m\n\u001b[1;32m      1\u001b[0m \u001b[0;32mfor\u001b[0m \u001b[0mintensity\u001b[0m \u001b[0;32min\u001b[0m \u001b[0;34m[\u001b[0m\u001b[0;36m5\u001b[0m\u001b[0;34m]\u001b[0m\u001b[0;34m:\u001b[0m\u001b[0;34m\u001b[0m\u001b[0m\n\u001b[1;32m      2\u001b[0m     \u001b[0mprint\u001b[0m\u001b[0;34m(\u001b[0m\u001b[0mintensity\u001b[0m\u001b[0;34m)\u001b[0m\u001b[0;34m\u001b[0m\u001b[0m\n\u001b[0;32m----> 3\u001b[0;31m     \u001b[0mt\u001b[0m \u001b[0;34m=\u001b[0m \u001b[0mmc_job_dist\u001b[0m\u001b[0;34m.\u001b[0m\u001b[0mJobGenerator\u001b[0m\u001b[0;34m(\u001b[0m\u001b[0mlamb\u001b[0m\u001b[0;34m=\u001b[0m\u001b[0mfloat\u001b[0m\u001b[0;34m(\u001b[0m\u001b[0mintensity\u001b[0m\u001b[0;34m)\u001b[0m\u001b[0;34m,\u001b[0m \u001b[0mresample_cycle\u001b[0m\u001b[0;34m=\u001b[0m\u001b[0;34m[\u001b[0m\u001b[0;36m20\u001b[0m\u001b[0;34m,\u001b[0m \u001b[0;36m5\u001b[0m\u001b[0;34m,\u001b[0m \u001b[0;36m10\u001b[0m\u001b[0;34m]\u001b[0m\u001b[0;34m)\u001b[0m\u001b[0;34m\u001b[0m\u001b[0m\n\u001b[0m\u001b[1;32m      4\u001b[0m     \u001b[0mt\u001b[0m\u001b[0;34m.\u001b[0m\u001b[0msimple\u001b[0m\u001b[0;34m=\u001b[0m\u001b[0;32mTrue\u001b[0m\u001b[0;34m\u001b[0m\u001b[0m\n\u001b[1;32m      5\u001b[0m     \u001b[0mjob_lens\u001b[0m \u001b[0;34m=\u001b[0m \u001b[0;34m[\u001b[0m\u001b[0;34m]\u001b[0m\u001b[0;34m\u001b[0m\u001b[0m\n",
      "\u001b[0;31mTypeError\u001b[0m: __init__() got an unexpected keyword argument 'lamb'"
     ]
    }
   ],
   "source": [
    "for intensity in [0.3, 0.5, 0.8, 1.0, 1.2, 1.5]:\n",
    "    print(intensity)\n",
    "    t = mc_job_dist.JobGenerator(lamb=float(intensity), resample_cycle=[20, 5, 10])\n",
    "    t.simple=True\n",
    "    job_lens = []\n",
    "    tr_seqs = []\n",
    "    te_seqs =[]\n",
    "    for _ in range(n_seqs):\n",
    "        seq = [] \n",
    "        t.curr_state = 'high'\n",
    "        for _ in range(ep_len):\n",
    "            l = t.mmpp()\n",
    "            seq.append(l)\n",
    "            job_lens.append(len(l))\n",
    "        tr_seqs.append(seq)\n",
    "    \n",
    "    for _ in range(n_seqs):\n",
    "\n",
    "        seq = [] \n",
    "        t.curr_state = 'high'\n",
    "        for _ in range(ep_len):\n",
    "            seq.append(t.mmpp())\n",
    "            job_lens += [x[0] for x in seq[_]]\n",
    "        te_seqs.append(seq)\n",
    "    \n",
    "    with open(\"data/simple/tr_%0.1f.pkl\" % intensity,'wb') as f:\n",
    "        pickle.dump(tr_seqs, f)\n",
    "    with open(\"data/simple/te_%0.1f.pkl\" % intensity,'wb') as f:\n",
    "        pickle.dump(te_seqs, f)"
   ]
  },
  {
   "cell_type": "code",
   "execution_count": 25,
   "metadata": {},
   "outputs": [
    {
     "name": "stdout",
     "output_type": "stream",
     "text": [
      "3.00454\n"
     ]
    }
   ],
   "source": [
    "job_lens = []\n",
    "tr_seqs = []\n",
    "te_seqs =[]\n",
    "for _ in range(n_seqs):\n",
    "    seq = [] \n",
    "    lamb_max = 2.0 + 2.0 * np.random.random()\n",
    "    t = mc_job_dist.JobGenerator(lamb_min=lamb_max, lamb_max=lamb_max)\n",
    "    t.curr_state = 'high'\n",
    "    for _ in range(ep_len):\n",
    "        l = t.mmpp()\n",
    "        seq.append(l)\n",
    "        job_lens.append(len(l))\n",
    "    tr_seqs.append(seq)\n",
    "print(np.mean(job_lens))\n",
    "\n",
    "for _ in range(n_seqs):\n",
    "\n",
    "    seq = [] \n",
    "    lamb_max = 2.0 + 2.0 * np.random.random()\n",
    "    t = mc_job_dist.JobGenerator(lamb_min=lamb_max, lamb_max=lamb_max)\n",
    "    t.curr_state = 'high'\n",
    "    for _ in range(ep_len):\n",
    "        seq.append(t.mmpp())\n",
    "        job_lens += [x[0] for x in seq[_]]\n",
    "    te_seqs.append(seq)\n",
    "\n",
    "with open(\"data/tr_total.pkl\",'wb') as f:\n",
    "    pickle.dump(tr_seqs, f)\n",
    "with open(\"data/te_total.pkl\",'wb') as f:\n",
    "    pickle.dump(te_seqs, f)"
   ]
  },
  {
   "cell_type": "code",
   "execution_count": null,
   "metadata": {},
   "outputs": [],
   "source": []
  }
 ],
 "metadata": {
  "kernelspec": {
   "display_name": "Python 3",
   "language": "python",
   "name": "python3"
  },
  "language_info": {
   "codemirror_mode": {
    "name": "ipython",
    "version": 3
   },
   "file_extension": ".py",
   "mimetype": "text/x-python",
   "name": "python",
   "nbconvert_exporter": "python",
   "pygments_lexer": "ipython3",
   "version": "3.7.3"
  }
 },
 "nbformat": 4,
 "nbformat_minor": 2
}
