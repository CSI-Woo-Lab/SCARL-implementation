{
 "cells": [
  {
   "cell_type": "code",
   "execution_count": 1,
   "metadata": {},
   "outputs": [],
   "source": [
    "import importlib\n",
    "import mc_env\n",
    "import mc_job_dist\n",
    "import numpy as np \n",
    "import pickle"
   ]
  },
  {
   "cell_type": "code",
   "execution_count": 2,
   "metadata": {},
   "outputs": [
    {
     "data": {
      "text/plain": [
       "<module 'mc_job_dist' from '/home/ita/code/SCARL/mc_job_dist.py'>"
      ]
     },
     "execution_count": 2,
     "metadata": {},
     "output_type": "execute_result"
    }
   ],
   "source": [
    "importlib.reload(mc_env)\n",
    "importlib.reload(mc_job_dist)"
   ]
  },
  {
   "cell_type": "code",
   "execution_count": 3,
   "metadata": {},
   "outputs": [],
   "source": [
    "tr_seqs = []\n",
    "n_seqs = 500\n",
    "ep_len = 100\n",
    "job_lens = []\n",
    "te_seqs = []"
   ]
  },
  {
   "cell_type": "code",
   "execution_count": 4,
   "metadata": {
    "scrolled": true
   },
   "outputs": [
    {
     "name": "stdout",
     "output_type": "stream",
     "text": [
      "2.00348\n"
     ]
    }
   ],
   "source": [
    "for intensity in np.arange(2.0,2.1, 0.2):\n",
    "    t = mc_job_dist.JobGenerator(lamb_min=intensity, lamb_max=intensity)\n",
    "    job_lens = []\n",
    "    tr_seqs = []\n",
    "    te_seqs =[]\n",
    "    for _ in range(n_seqs):\n",
    "        seq = [] \n",
    "        t.curr_state = 'high'\n",
    "        for _ in range(ep_len):\n",
    "            l = t.mmpp()\n",
    "            seq.append(l)\n",
    "            job_lens.append(len(l))\n",
    "        tr_seqs.append(seq)\n",
    "    print(np.mean(job_lens))\n",
    "\n",
    "    for _ in range(n_seqs):\n",
    "\n",
    "        seq = [] \n",
    "        t.curr_state = 'high'\n",
    "        for _ in range(ep_len):\n",
    "            seq.append(t.mmpp())\n",
    "            job_lens += [x[0] for x in seq[_]]\n",
    "        te_seqs.append(seq)\n",
    "\n",
    "    with open(\"data/tr_%0.1f.pkl\" % intensity,'wb') as f:\n",
    "        pickle.dump(tr_seqs, f)\n",
    "    with open(\"data/te_%0.1f.pkl\" % intensity,'wb') as f:\n",
    "        pickle.dump(te_seqs, f)"
   ]
  },
  {
   "cell_type": "code",
   "execution_count": 25,
   "metadata": {},
   "outputs": [
    {
     "name": "stdout",
     "output_type": "stream",
     "text": [
      "3.00454\n"
     ]
    }
   ],
   "source": [
    "job_lens = []\n",
    "tr_seqs = []\n",
    "te_seqs =[]\n",
    "for _ in range(n_seqs):\n",
    "    seq = [] \n",
    "    lamb_max = 2.0 + 2.0 * np.random.random()\n",
    "    t = mc_job_dist.JobGenerator(lamb_min=lamb_max, lamb_max=lamb_max)\n",
    "    t.curr_state = 'high'\n",
    "    for _ in range(ep_len):\n",
    "        l = t.mmpp()\n",
    "        seq.append(l)\n",
    "        job_lens.append(len(l))\n",
    "    tr_seqs.append(seq)\n",
    "print(np.mean(job_lens))\n",
    "\n",
    "for _ in range(n_seqs):\n",
    "\n",
    "    seq = [] \n",
    "    lamb_max = 2.0 + 2.0 * np.random.random()\n",
    "    t = mc_job_dist.JobGenerator(lamb_min=lamb_max, lamb_max=lamb_max)\n",
    "    t.curr_state = 'high'\n",
    "    for _ in range(ep_len):\n",
    "        seq.append(t.mmpp())\n",
    "        job_lens += [x[0] for x in seq[_]]\n",
    "    te_seqs.append(seq)\n",
    "\n",
    "with open(\"data/tr_total.pkl\",'wb') as f:\n",
    "    pickle.dump(tr_seqs, f)\n",
    "with open(\"data/te_total.pkl\",'wb') as f:\n",
    "    pickle.dump(te_seqs, f)"
   ]
  },
  {
   "cell_type": "code",
   "execution_count": null,
   "metadata": {},
   "outputs": [],
   "source": []
  }
 ],
 "metadata": {
  "kernelspec": {
   "display_name": "Python 3",
   "language": "python",
   "name": "python3"
  },
  "language_info": {
   "codemirror_mode": {
    "name": "ipython",
    "version": 3
   },
   "file_extension": ".py",
   "mimetype": "text/x-python",
   "name": "python",
   "nbconvert_exporter": "python",
   "pygments_lexer": "ipython3",
   "version": "3.7.7"
  }
 },
 "nbformat": 4,
 "nbformat_minor": 2
}
